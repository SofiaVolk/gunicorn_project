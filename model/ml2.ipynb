{
 "cells": [
  {
   "cell_type": "code",
   "execution_count": 2,
   "metadata": {},
   "outputs": [
    {
     "name": "stdout",
     "output_type": "stream",
     "text": [
      "Wall time: 0 ns\n"
     ]
    }
   ],
   "source": [
    "%%time\n",
    "import ml\n",
    "from sklearn.metrics import f1_score\n",
    "import numpy as np"
   ]
  },
  {
   "cell_type": "code",
   "execution_count": 3,
   "metadata": {},
   "outputs": [
    {
     "name": "stdout",
     "output_type": "stream",
     "text": [
      "Wall time: 1.13 s\n"
     ]
    }
   ],
   "source": [
    "%%time\n",
    "import pandas as pd\n",
    "data_hh=pd.read_csv(\".data/hh_dataset.csv\")\n",
    "data_youla=pd.read_csv(\".data/youla_dataset.csv\")"
   ]
  },
  {
   "cell_type": "markdown",
   "metadata": {},
   "source": [
    "## Предикт хотелки"
   ]
  },
  {
   "cell_type": "code",
   "execution_count": 16,
   "metadata": {},
   "outputs": [],
   "source": [
    "vec=np.empty((data_hh.shape[0]+data_youla.shape[0],300),dtype=np.float)\n",
    "y_true=np.zeros(data_hh.shape[0]+data_youla.shape[0],dtype=np.int)\n",
    "y_pred=np.zeros(data_hh.shape[0]+data_youla.shape[0],dtype=np.int)\n",
    "data_hh['title'].fillna(data_hh['description'],inplace=True)\n",
    "data_youla['title'].fillna(data_youla['description'],inplace=True)\n",
    "for i in range(data_hh.shape[0]):\n",
    "    vec[i]=model.text2vec(data_hh.iloc[i]['title'])\n",
    "for i in range(data_youla.shape[0]):\n",
    "    vec[i+data_hh.shape[0]]=model.text2vec(data_youla.iloc[i]['title'])\n",
    "    y_true[i+data_hh.shape[0]]=1"
   ]
  },
  {
   "cell_type": "code",
   "execution_count": 19,
   "metadata": {},
   "outputs": [],
   "source": [
    "y_prob=ml.dummy_model.predict_proba(vec)\n",
    "def decide(x):\n",
    "    if x[0]>=ml.CRITICAL_SIMILARITY:\n",
    "        return 0\n",
    "    if x[1]>=ml.CRITICAL_SIMILARITY:\n",
    "        return 1\n",
    "    return 2\n",
    "y_pred=np.array(map(decide,y_prob))"
   ]
  },
  {
   "cell_type": "code",
   "execution_count": 22,
   "metadata": {},
   "outputs": [],
   "source": [
    "y_pred=list(map(decide,y_prob))"
   ]
  },
  {
   "cell_type": "code",
   "execution_count": 30,
   "metadata": {},
   "outputs": [
    {
     "name": "stderr",
     "output_type": "stream",
     "text": [
      "C:\\Users\\Alex\\AppData\\Roaming\\Python\\Python37\\site-packages\\sklearn\\metrics\\classification.py:1439: UndefinedMetricWarning: F-score is ill-defined and being set to 0.0 in labels with no true samples.\n",
      "  'recall', 'true', average, warn_for)\n"
     ]
    },
    {
     "data": {
      "text/plain": [
       "0.9695731467292165"
      ]
     },
     "execution_count": 30,
     "metadata": {},
     "output_type": "execute_result"
    }
   ],
   "source": [
    "f1_score(y_true, y_pred, average='weighted')"
   ]
  },
  {
   "cell_type": "markdown",
   "metadata": {},
   "source": [
    "ошибка возникает потому что нет категории хотелки dummy в исходных данных, а генерить 10000 данных, не относящихся ни к одной категории, долго и сложно"
   ]
  },
  {
   "cell_type": "markdown",
   "metadata": {},
   "source": [
    "## Предикт категории"
   ]
  },
  {
   "cell_type": "code",
   "execution_count": 38,
   "metadata": {},
   "outputs": [],
   "source": [
    "vec=np.empty((data_hh.shape[0],300),dtype=np.float)\n",
    "for i in range(data_hh.shape[0]):\n",
    "    vec[i]=model.text2vec(data_hh.iloc[i]['title'])\n",
    "y_pred=ml.categories_model.predict(vec)"
   ]
  },
  {
   "cell_type": "code",
   "execution_count": 40,
   "metadata": {},
   "outputs": [
    {
     "data": {
      "text/plain": [
       "0.6254393590055014"
      ]
     },
     "execution_count": 40,
     "metadata": {},
     "output_type": "execute_result"
    }
   ],
   "source": [
    "f1_score(data_hh['category_id'].values, y_pred, average='weighted')"
   ]
  }
 ],
 "metadata": {
  "kernelspec": {
   "display_name": "Python 3",
   "language": "python",
   "name": "python3"
  },
  "language_info": {
   "codemirror_mode": {
    "name": "ipython",
    "version": 3
   },
   "file_extension": ".py",
   "mimetype": "text/x-python",
   "name": "python",
   "nbconvert_exporter": "python",
   "pygments_lexer": "ipython3",
   "version": "3.7.1"
  }
 },
 "nbformat": 4,
 "nbformat_minor": 2
}
