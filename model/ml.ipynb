{
 "cells": [
  {
   "cell_type": "code",
   "execution_count": 1,
   "metadata": {},
   "outputs": [],
   "source": [
    "import pandas as pd\n",
    "from ml import Model\n",
    "data_youla=pd.read_csv('.datasets/youla_dataset.csv')\n",
    "data_hh=pd.read_csv('.datasets/hh_dataset.csv')\n",
    "model = Model()"
   ]
  },
  {
   "cell_type": "code",
   "execution_count": 2,
   "metadata": {},
   "outputs": [
    {
     "name": "stdout",
     "output_type": "stream",
     "text": [
      "Wall time: 222 ms\n"
     ]
    }
   ],
   "source": [
    "%%time\n",
    "text=\"белая футболка\"\n",
    "ids=model.knn_youla(text, 5)\n",
    "print(ids)"
   ]
  },
  {
   "cell_type": "code",
   "execution_count": 3,
   "metadata": {},
   "outputs": [
    {
     "data": {
      "text/html": [
       "<div>\n",
       "<style scoped>\n",
       "    .dataframe tbody tr th:only-of-type {\n",
       "        vertical-align: middle;\n",
       "    }\n",
       "\n",
       "    .dataframe tbody tr th {\n",
       "        vertical-align: top;\n",
       "    }\n",
       "\n",
       "    .dataframe thead th {\n",
       "        text-align: right;\n",
       "    }\n",
       "</style>\n",
       "<table border=\"1\" class=\"dataframe\">\n",
       "  <thead>\n",
       "    <tr style=\"text-align: right;\">\n",
       "      <th></th>\n",
       "      <th>title</th>\n",
       "      <th>descrirption</th>\n",
       "    </tr>\n",
       "  </thead>\n",
       "  <tbody>\n",
       "    <tr>\n",
       "      <th>11638</th>\n",
       "      <td>Футболка и шорты</td>\n",
       "      <td>Белая футболка и черные шорты</td>\n",
       "    </tr>\n",
       "    <tr>\n",
       "      <th>20261</th>\n",
       "      <td>Рубашка белая</td>\n",
       "      <td>NaN</td>\n",
       "    </tr>\n",
       "    <tr>\n",
       "      <th>31946</th>\n",
       "      <td>Футболки 4 шт</td>\n",
       "      <td>Футболки по 150р 48-50</td>\n",
       "    </tr>\n",
       "    <tr>\n",
       "      <th>2527</th>\n",
       "      <td>Футболки</td>\n",
       "      <td>Бу за все 500 по отдельности200₽</td>\n",
       "    </tr>\n",
       "    <tr>\n",
       "      <th>2563</th>\n",
       "      <td>Футболка</td>\n",
       "      <td>Бу</td>\n",
       "    </tr>\n",
       "  </tbody>\n",
       "</table>\n",
       "</div>"
      ],
      "text/plain": [
       "                  title                      descrirption\n",
       "11638  Футболка и шорты     Белая футболка и черные шорты\n",
       "20261     Рубашка белая                               NaN\n",
       "31946     Футболки 4 шт            Футболки по 150р 48-50\n",
       "2527           Футболки  Бу за все 500 по отдельности200₽\n",
       "2563           Футболка                                Бу"
      ]
     },
     "execution_count": 3,
     "metadata": {},
     "output_type": "execute_result"
    }
   ],
   "source": [
    "data_youla.iloc[ids][['title','descrirption']]"
   ]
  },
  {
   "cell_type": "code",
   "execution_count": 4,
   "metadata": {},
   "outputs": [
    {
     "name": "stdout",
     "output_type": "stream",
     "text": [
      "Wall time: 24.9 ms\n"
     ]
    }
   ],
   "source": [
    "%%time\n",
    "text=\"системный администратор\"\n",
    "ids=model.knn_hh(text, 5)\n",
    "print(ids)"
   ]
  },
  {
   "cell_type": "code",
   "execution_count": 5,
   "metadata": {},
   "outputs": [
    {
     "data": {
      "text/html": [
       "<div>\n",
       "<style scoped>\n",
       "    .dataframe tbody tr th:only-of-type {\n",
       "        vertical-align: middle;\n",
       "    }\n",
       "\n",
       "    .dataframe tbody tr th {\n",
       "        vertical-align: top;\n",
       "    }\n",
       "\n",
       "    .dataframe thead th {\n",
       "        text-align: right;\n",
       "    }\n",
       "</style>\n",
       "<table border=\"1\" class=\"dataframe\">\n",
       "  <thead>\n",
       "    <tr style=\"text-align: right;\">\n",
       "      <th></th>\n",
       "      <th>id</th>\n",
       "      <th>name</th>\n",
       "      <th>description</th>\n",
       "    </tr>\n",
       "  </thead>\n",
       "  <tbody>\n",
       "    <tr>\n",
       "      <th>600</th>\n",
       "      <td>31349839</td>\n",
       "      <td>Системный администратор</td>\n",
       "      <td>Обязанности:  Администрирование серверов под у...</td>\n",
       "    </tr>\n",
       "    <tr>\n",
       "      <th>17412</th>\n",
       "      <td>31269741</td>\n",
       "      <td>Системный администратор / специалист техническ...</td>\n",
       "      <td>Требования к кандидату:  Ответственность в раб...</td>\n",
       "    </tr>\n",
       "    <tr>\n",
       "      <th>615</th>\n",
       "      <td>31067255</td>\n",
       "      <td>Системный администратор</td>\n",
       "      <td>Обязанности:  Администрирование серверов Linux...</td>\n",
       "    </tr>\n",
       "    <tr>\n",
       "      <th>2</th>\n",
       "      <td>31142090</td>\n",
       "      <td>Руководитель/заместитель руководителя Управлен...</td>\n",
       "      <td>Обязанности:  Администрирование ЛВС Настройка/...</td>\n",
       "    </tr>\n",
       "    <tr>\n",
       "      <th>751</th>\n",
       "      <td>31041109</td>\n",
       "      <td>Системный администратор</td>\n",
       "      <td>Требования:  Поддержка пользователей (1, 2 лин...</td>\n",
       "    </tr>\n",
       "  </tbody>\n",
       "</table>\n",
       "</div>"
      ],
      "text/plain": [
       "             id                                               name  \\\n",
       "600    31349839                            Системный администратор   \n",
       "17412  31269741  Системный администратор / специалист техническ...   \n",
       "615    31067255                            Системный администратор   \n",
       "2      31142090  Руководитель/заместитель руководителя Управлен...   \n",
       "751    31041109                            Системный администратор   \n",
       "\n",
       "                                             description  \n",
       "600    Обязанности:  Администрирование серверов под у...  \n",
       "17412  Требования к кандидату:  Ответственность в раб...  \n",
       "615    Обязанности:  Администрирование серверов Linux...  \n",
       "2      Обязанности:  Администрирование ЛВС Настройка/...  \n",
       "751    Требования:  Поддержка пользователей (1, 2 лин...  "
      ]
     },
     "execution_count": 5,
     "metadata": {},
     "output_type": "execute_result"
    }
   ],
   "source": [
    "data_hh.iloc[ids][['id','name','description']]"
   ]
  },
  {
   "cell_type": "code",
   "execution_count": 6,
   "metadata": {},
   "outputs": [
    {
     "name": "stdout",
     "output_type": "stream",
     "text": [
      "youla\n",
      "hh\n"
     ]
    }
   ],
   "source": [
    "text=\"белая футболка\"\n",
    "print(model.knn_dummy(text))\n",
    "text=\"системный администратор\"\n",
    "print(model.knn_dummy(text))"
   ]
  }
 ],
 "metadata": {
  "kernelspec": {
   "display_name": "Python 3",
   "language": "python",
   "name": "python3"
  },
  "language_info": {
   "codemirror_mode": {
    "name": "ipython",
    "version": 3
   },
   "file_extension": ".py",
   "mimetype": "text/x-python",
   "name": "python",
   "nbconvert_exporter": "python",
   "pygments_lexer": "ipython3",
   "version": "3.7.1"
  }
 },
 "nbformat": 4,
 "nbformat_minor": 2
}
