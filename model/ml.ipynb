{
 "cells": [
  {
   "cell_type": "code",
   "execution_count": 1,
   "metadata": {},
   "outputs": [
    {
     "name": "stdout",
     "output_type": "stream",
     "text": [
      "Wall time: 1min 14s\n"
     ]
    }
   ],
   "source": [
    "%%time\n",
    "import ml\n",
    "model=ml.Model()"
   ]
  },
  {
   "cell_type": "code",
   "execution_count": 2,
   "metadata": {},
   "outputs": [
    {
     "name": "stdout",
     "output_type": "stream",
     "text": [
      "Wall time: 1.26 s\n"
     ]
    }
   ],
   "source": [
    "%%time\n",
    "import pandas as pd\n",
    "data_hh=pd.read_csv(\".data/hh_dataset.csv\")\n",
    "data_youla=pd.read_csv(\".data/youla_dataset.csv\")"
   ]
  },
  {
   "cell_type": "code",
   "execution_count": 3,
   "metadata": {},
   "outputs": [
    {
     "data": {
      "text/html": [
       "<div>\n",
       "<style scoped>\n",
       "    .dataframe tbody tr th:only-of-type {\n",
       "        vertical-align: middle;\n",
       "    }\n",
       "\n",
       "    .dataframe tbody tr th {\n",
       "        vertical-align: top;\n",
       "    }\n",
       "\n",
       "    .dataframe thead th {\n",
       "        text-align: right;\n",
       "    }\n",
       "</style>\n",
       "<table border=\"1\" class=\"dataframe\">\n",
       "  <thead>\n",
       "    <tr style=\"text-align: right;\">\n",
       "      <th></th>\n",
       "      <th>title</th>\n",
       "      <th>description</th>\n",
       "    </tr>\n",
       "  </thead>\n",
       "  <tbody>\n",
       "    <tr>\n",
       "      <th>5753</th>\n",
       "      <td>Заглушки для телефона</td>\n",
       "      <td>Продам заглушки для телефона. 1шт-10р.</td>\n",
       "    </tr>\n",
       "    <tr>\n",
       "      <th>21334</th>\n",
       "      <td>Чехол водонепроницаемый для телефона</td>\n",
       "      <td>Чехол водонепроницаемый для телефона от 3,5 до...</td>\n",
       "    </tr>\n",
       "    <tr>\n",
       "      <th>28077</th>\n",
       "      <td>Телефоны и планшеты все разом</td>\n",
       "      <td>Продам тел и планшеты разом разные и рабочие и...</td>\n",
       "    </tr>\n",
       "    <tr>\n",
       "      <th>8458</th>\n",
       "      <td>Радиоуправляемая машинка на бензине</td>\n",
       "      <td>Сломана одна деталь.все вопросы по телефону ил...</td>\n",
       "    </tr>\n",
       "    <tr>\n",
       "      <th>6015</th>\n",
       "      <td>Электрическая беговая дорожка</td>\n",
       "      <td>Все вопросы по телефону.</td>\n",
       "    </tr>\n",
       "  </tbody>\n",
       "</table>\n",
       "</div>"
      ],
      "text/plain": [
       "                                      title  \\\n",
       "5753                  Заглушки для телефона   \n",
       "21334  Чехол водонепроницаемый для телефона   \n",
       "28077         Телефоны и планшеты все разом   \n",
       "8458    Радиоуправляемая машинка на бензине   \n",
       "6015          Электрическая беговая дорожка   \n",
       "\n",
       "                                             description  \n",
       "5753              Продам заглушки для телефона. 1шт-10р.  \n",
       "21334  Чехол водонепроницаемый для телефона от 3,5 до...  \n",
       "28077  Продам тел и планшеты разом разные и рабочие и...  \n",
       "8458   Сломана одна деталь.все вопросы по телефону ил...  \n",
       "6015                            Все вопросы по телефону.  "
      ]
     },
     "execution_count": 3,
     "metadata": {},
     "output_type": "execute_result"
    }
   ],
   "source": [
    "text=\"телефон без царапин\"\n",
    "ids=model.knn_youla(text, 5)\n",
    "data_youla.iloc[ids][['title','description']]"
   ]
  },
  {
   "cell_type": "code",
   "execution_count": 4,
   "metadata": {},
   "outputs": [
    {
     "data": {
      "text/html": [
       "<div>\n",
       "<style scoped>\n",
       "    .dataframe tbody tr th:only-of-type {\n",
       "        vertical-align: middle;\n",
       "    }\n",
       "\n",
       "    .dataframe tbody tr th {\n",
       "        vertical-align: top;\n",
       "    }\n",
       "\n",
       "    .dataframe thead th {\n",
       "        text-align: right;\n",
       "    }\n",
       "</style>\n",
       "<table border=\"1\" class=\"dataframe\">\n",
       "  <thead>\n",
       "    <tr style=\"text-align: right;\">\n",
       "      <th></th>\n",
       "      <th>title</th>\n",
       "      <th>description</th>\n",
       "    </tr>\n",
       "  </thead>\n",
       "  <tbody>\n",
       "    <tr>\n",
       "      <th>6329</th>\n",
       "      <td>Водитель категории Д на автобус</td>\n",
       "      <td>В транспортную компанию на постоянную работу т...</td>\n",
       "    </tr>\n",
       "    <tr>\n",
       "      <th>6192</th>\n",
       "      <td>Водитель-дальнобойщик</td>\n",
       "      <td>На постоянную работу требуется водитель-дально...</td>\n",
       "    </tr>\n",
       "    <tr>\n",
       "      <th>16020</th>\n",
       "      <td>Водитель такси Ford Focus</td>\n",
       "      <td>Крупной транспортной компании требуются води...</td>\n",
       "    </tr>\n",
       "    <tr>\n",
       "      <th>11685</th>\n",
       "      <td>Водитель-курьер с личным автомобилем</td>\n",
       "      <td>Обязанности:  сбор и доставка почтовых отправл...</td>\n",
       "    </tr>\n",
       "    <tr>\n",
       "      <th>11706</th>\n",
       "      <td>Водитель Яндекс такси на зарплату</td>\n",
       "      <td>В штат на зарплату. Водитель Такси, НОВЫЕ АВТО...</td>\n",
       "    </tr>\n",
       "  </tbody>\n",
       "</table>\n",
       "</div>"
      ],
      "text/plain": [
       "                                      title  \\\n",
       "6329        Водитель категории Д на автобус   \n",
       "6192                  Водитель-дальнобойщик   \n",
       "16020             Водитель такси Ford Focus   \n",
       "11685  Водитель-курьер с личным автомобилем   \n",
       "11706     Водитель Яндекс такси на зарплату   \n",
       "\n",
       "                                             description  \n",
       "6329   В транспортную компанию на постоянную работу т...  \n",
       "6192   На постоянную работу требуется водитель-дально...  \n",
       "16020    Крупной транспортной компании требуются води...  \n",
       "11685  Обязанности:  сбор и доставка почтовых отправл...  \n",
       "11706  В штат на зарплату. Водитель Такси, НОВЫЕ АВТО...  "
      ]
     },
     "execution_count": 4,
     "metadata": {},
     "output_type": "execute_result"
    }
   ],
   "source": [
    "text=\"водитель автобуса\"\n",
    "ids=model.knn_hh(text, 5)\n",
    "data_hh.iloc[ids][['title','description']]"
   ]
  },
  {
   "cell_type": "code",
   "execution_count": 11,
   "metadata": {},
   "outputs": [
    {
     "name": "stdout",
     "output_type": "stream",
     "text": [
      "[0. 1.]\n",
      "youla\n"
     ]
    }
   ],
   "source": [
    "text=\"Плоский телевизор с большим экраном\"\n",
    "print(model.wish_detector(text))"
   ]
  },
  {
   "cell_type": "code",
   "execution_count": 5,
   "metadata": {},
   "outputs": [
    {
     "name": "stdout",
     "output_type": "stream",
     "text": [
      "(24, 'Спортивные клубы, фитнес, салоны красоты')\n"
     ]
    }
   ],
   "source": [
    "text=\"Продавец в магазин профессиональной косметики\"\n",
    "print(model.predict_text(text))"
   ]
  },
  {
   "cell_type": "code",
   "execution_count": 6,
   "metadata": {},
   "outputs": [
    {
     "name": "stdout",
     "output_type": "stream",
     "text": [
      "Wall time: 3min 46s\n"
     ]
    }
   ],
   "source": [
    "%%time\n",
    "ml.dump_all()"
   ]
  }
 ],
 "metadata": {
  "kernelspec": {
   "display_name": "Python 3",
   "language": "python",
   "name": "python3"
  },
  "language_info": {
   "codemirror_mode": {
    "name": "ipython",
    "version": 3
   },
   "file_extension": ".py",
   "mimetype": "text/x-python",
   "name": "python",
   "nbconvert_exporter": "python",
   "pygments_lexer": "ipython3",
   "version": "3.7.1"
  }
 },
 "nbformat": 4,
 "nbformat_minor": 2
}
