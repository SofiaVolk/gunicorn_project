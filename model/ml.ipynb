{
 "cells": [
  {
   "cell_type": "markdown",
   "metadata": {},
   "source": [
    "# Gunicorn project. ML"
   ]
  },
  {
   "cell_type": "markdown",
   "metadata": {},
   "source": [
    "## Что умеет модель\n",
    "Модель умеет предсказывать тип хотелки, введенной пользователем (юла, hh, ни то ни другое), далее по этому типу искать похожие объявления на соответствующей платформе.\n",
    "\n",
    "Еще модель умеет предсказывать категорию для вакансии. Это не изюминка проекта, сделана для того чтобы а почему бы и нет."
   ]
  },
  {
   "cell_type": "code",
   "execution_count": 1,
   "metadata": {},
   "outputs": [
    {
     "name": "stdout",
     "output_type": "stream",
     "text": [
      "Wall time: 1min 14s\n"
     ]
    }
   ],
   "source": [
    "%%time\n",
    "import ml\n",
    "model=ml.Model()"
   ]
  },
  {
   "cell_type": "markdown",
   "metadata": {},
   "source": [
    "## Что за данные\n",
    "Данные лежат в базе, в ноутбуке используется локальная копия (не уверен) для улучшения производительности."
   ]
  },
  {
   "cell_type": "code",
   "execution_count": 2,
   "metadata": {},
   "outputs": [
    {
     "name": "stdout",
     "output_type": "stream",
     "text": [
      "Wall time: 1.06 s\n"
     ]
    }
   ],
   "source": [
    "%%time\n",
    "import pandas as pd\n",
    "data_hh=pd.read_csv(\".data/hh_dataset.csv\")\n",
    "data_youla=pd.read_csv(\".data/youla_dataset.csv\")"
   ]
  },
  {
   "cell_type": "code",
   "execution_count": 27,
   "metadata": {},
   "outputs": [
    {
     "data": {
      "text/html": [
       "<div>\n",
       "<style scoped>\n",
       "    .dataframe tbody tr th:only-of-type {\n",
       "        vertical-align: middle;\n",
       "    }\n",
       "\n",
       "    .dataframe tbody tr th {\n",
       "        vertical-align: top;\n",
       "    }\n",
       "\n",
       "    .dataframe thead th {\n",
       "        text-align: right;\n",
       "    }\n",
       "</style>\n",
       "<table border=\"1\" class=\"dataframe\">\n",
       "  <thead>\n",
       "    <tr style=\"text-align: right;\">\n",
       "      <th></th>\n",
       "      <th>id</th>\n",
       "      <th>title</th>\n",
       "      <th>category_id</th>\n",
       "      <th>category_name</th>\n",
       "      <th>employer</th>\n",
       "      <th>description</th>\n",
       "      <th>salary_from</th>\n",
       "      <th>salary_to</th>\n",
       "      <th>currency</th>\n",
       "      <th>metro_station</th>\n",
       "    </tr>\n",
       "  </thead>\n",
       "  <tbody>\n",
       "    <tr>\n",
       "      <th>9405</th>\n",
       "      <td>31371325</td>\n",
       "      <td>Юрист</td>\n",
       "      <td>23</td>\n",
       "      <td>Юристы</td>\n",
       "      <td>НТО Центр промышленной безопасности</td>\n",
       "      <td>ДЛЯ КОГО ЭТА ВАКАНСИЯ Мы ищем юриста, который ...</td>\n",
       "      <td>NaN</td>\n",
       "      <td>NaN</td>\n",
       "      <td>NaN</td>\n",
       "      <td>Волгоградский проспект</td>\n",
       "    </tr>\n",
       "  </tbody>\n",
       "</table>\n",
       "</div>"
      ],
      "text/plain": [
       "            id  title  category_id category_name  \\\n",
       "9405  31371325  Юрист           23        Юристы   \n",
       "\n",
       "                                 employer  \\\n",
       "9405  НТО Центр промышленной безопасности   \n",
       "\n",
       "                                            description  salary_from  \\\n",
       "9405  ДЛЯ КОГО ЭТА ВАКАНСИЯ Мы ищем юриста, который ...          NaN   \n",
       "\n",
       "      salary_to currency           metro_station  \n",
       "9405        NaN      NaN  Волгоградский проспект  "
      ]
     },
     "execution_count": 27,
     "metadata": {},
     "output_type": "execute_result"
    }
   ],
   "source": [
    "data_hh.sample(1)"
   ]
  },
  {
   "cell_type": "code",
   "execution_count": 28,
   "metadata": {},
   "outputs": [
    {
     "data": {
      "text/html": [
       "<div>\n",
       "<style scoped>\n",
       "    .dataframe tbody tr th:only-of-type {\n",
       "        vertical-align: middle;\n",
       "    }\n",
       "\n",
       "    .dataframe tbody tr th {\n",
       "        vertical-align: top;\n",
       "    }\n",
       "\n",
       "    .dataframe thead th {\n",
       "        text-align: right;\n",
       "    }\n",
       "</style>\n",
       "<table border=\"1\" class=\"dataframe\">\n",
       "  <thead>\n",
       "    <tr style=\"text-align: right;\">\n",
       "      <th></th>\n",
       "      <th>id</th>\n",
       "      <th>title</th>\n",
       "      <th>description</th>\n",
       "      <th>product_id</th>\n",
       "      <th>category_id</th>\n",
       "      <th>subcategory_id</th>\n",
       "      <th>properties</th>\n",
       "      <th>image_links</th>\n",
       "    </tr>\n",
       "  </thead>\n",
       "  <tbody>\n",
       "    <tr>\n",
       "      <th>6523</th>\n",
       "      <td>6523</td>\n",
       "      <td>Зимняя куртка кожанная</td>\n",
       "      <td>Кожанка зимняя 54_56</td>\n",
       "      <td>5bb1d3fe0fff81421a6608d1</td>\n",
       "      <td>8.0</td>\n",
       "      <td>803</td>\n",
       "      <td>{'muzhskaya_odezhda_verhnyaya_tip': 'Кожаные к...</td>\n",
       "      <td>http://cache3.youla.io/files/images/360_360/5b...</td>\n",
       "    </tr>\n",
       "  </tbody>\n",
       "</table>\n",
       "</div>"
      ],
      "text/plain": [
       "        id                   title           description  \\\n",
       "6523  6523  Зимняя куртка кожанная  Кожанка зимняя 54_56   \n",
       "\n",
       "                    product_id  category_id subcategory_id  \\\n",
       "6523  5bb1d3fe0fff81421a6608d1          8.0            803   \n",
       "\n",
       "                                             properties  \\\n",
       "6523  {'muzhskaya_odezhda_verhnyaya_tip': 'Кожаные к...   \n",
       "\n",
       "                                            image_links  \n",
       "6523  http://cache3.youla.io/files/images/360_360/5b...  "
      ]
     },
     "execution_count": 28,
     "metadata": {},
     "output_type": "execute_result"
    }
   ],
   "source": [
    "data_youla.sample(1)"
   ]
  },
  {
   "cell_type": "markdown",
   "metadata": {},
   "source": [
    "## Поиск по юле\n",
    "Для обучения использовался ансамбль BaggingClassifier на решающих деревьях. Векторизовались только названия объявлений, так как длинные описания усредняли вектор. Токенизация слов при помощи pymorphy2. Корпус слов для Word2Vec - Araneum, размерность вектора 300, алгоритм скипграм, обучен на 10млрд слов из [замечательного источника](https://www.google.ru/), взят [отсюда](https://rusvectores.org/static/models/rusvectores4/araneum/araneum_upos_skipgram_300_2_2018.vec.gz)"
   ]
  },
  {
   "cell_type": "code",
   "execution_count": 24,
   "metadata": {},
   "outputs": [
    {
     "data": {
      "text/html": [
       "<div>\n",
       "<style scoped>\n",
       "    .dataframe tbody tr th:only-of-type {\n",
       "        vertical-align: middle;\n",
       "    }\n",
       "\n",
       "    .dataframe tbody tr th {\n",
       "        vertical-align: top;\n",
       "    }\n",
       "\n",
       "    .dataframe thead th {\n",
       "        text-align: right;\n",
       "    }\n",
       "</style>\n",
       "<table border=\"1\" class=\"dataframe\">\n",
       "  <thead>\n",
       "    <tr style=\"text-align: right;\">\n",
       "      <th></th>\n",
       "      <th>title</th>\n",
       "      <th>description</th>\n",
       "    </tr>\n",
       "  </thead>\n",
       "  <tbody>\n",
       "    <tr>\n",
       "      <th>23133</th>\n",
       "      <td>Куртка подростковая для девочки р.40-42</td>\n",
       "      <td>Куртка подростковая на девочку р.40-42. С капю...</td>\n",
       "    </tr>\n",
       "    <tr>\n",
       "      <th>5187</th>\n",
       "      <td>Куртка зимняя \"MTFORCE\"</td>\n",
       "      <td>Зимняя куртка для девочки.</td>\n",
       "    </tr>\n",
       "    <tr>\n",
       "      <th>6861</th>\n",
       "      <td>Куртка джинсовая</td>\n",
       "      <td>Модная курточка , на девочку .</td>\n",
       "    </tr>\n",
       "    <tr>\n",
       "      <th>8909</th>\n",
       "      <td>Куртка джинсовая</td>\n",
       "      <td>Продам джинсовую курточку на девочку.</td>\n",
       "    </tr>\n",
       "    <tr>\n",
       "      <th>35000</th>\n",
       "      <td>Куртка зимняя для девочки</td>\n",
       "      <td>Куртка зимняя для девочки. Подкладка- флис. Бе...</td>\n",
       "    </tr>\n",
       "  </tbody>\n",
       "</table>\n",
       "</div>"
      ],
      "text/plain": [
       "                                         title  \\\n",
       "23133  Куртка подростковая для девочки р.40-42   \n",
       "5187                   Куртка зимняя \"MTFORCE\"   \n",
       "6861                          Куртка джинсовая   \n",
       "8909                          Куртка джинсовая   \n",
       "35000                Куртка зимняя для девочки   \n",
       "\n",
       "                                             description  \n",
       "23133  Куртка подростковая на девочку р.40-42. С капю...  \n",
       "5187                          Зимняя куртка для девочки.  \n",
       "6861                      Модная курточка , на девочку .  \n",
       "8909               Продам джинсовую курточку на девочку.  \n",
       "35000  Куртка зимняя для девочки. Подкладка- флис. Бе...  "
      ]
     },
     "execution_count": 24,
     "metadata": {},
     "output_type": "execute_result"
    }
   ],
   "source": [
    "text=\"синяя куртка для девочки с капюшоном\"\n",
    "ids=model.knn_youla(text, 5)\n",
    "data_youla.iloc[ids][['title','description']]"
   ]
  },
  {
   "cell_type": "markdown",
   "metadata": {},
   "source": [
    "## Поиск по hh\n",
    "Аналогично поиску по юле."
   ]
  },
  {
   "cell_type": "code",
   "execution_count": 4,
   "metadata": {},
   "outputs": [
    {
     "data": {
      "text/html": [
       "<div>\n",
       "<style scoped>\n",
       "    .dataframe tbody tr th:only-of-type {\n",
       "        vertical-align: middle;\n",
       "    }\n",
       "\n",
       "    .dataframe tbody tr th {\n",
       "        vertical-align: top;\n",
       "    }\n",
       "\n",
       "    .dataframe thead th {\n",
       "        text-align: right;\n",
       "    }\n",
       "</style>\n",
       "<table border=\"1\" class=\"dataframe\">\n",
       "  <thead>\n",
       "    <tr style=\"text-align: right;\">\n",
       "      <th></th>\n",
       "      <th>title</th>\n",
       "      <th>description</th>\n",
       "    </tr>\n",
       "  </thead>\n",
       "  <tbody>\n",
       "    <tr>\n",
       "      <th>6329</th>\n",
       "      <td>Водитель категории Д на автобус</td>\n",
       "      <td>В транспортную компанию на постоянную работу т...</td>\n",
       "    </tr>\n",
       "    <tr>\n",
       "      <th>6192</th>\n",
       "      <td>Водитель-дальнобойщик</td>\n",
       "      <td>На постоянную работу требуется водитель-дально...</td>\n",
       "    </tr>\n",
       "    <tr>\n",
       "      <th>16020</th>\n",
       "      <td>Водитель такси Ford Focus</td>\n",
       "      <td>Крупной транспортной компании требуются води...</td>\n",
       "    </tr>\n",
       "    <tr>\n",
       "      <th>11685</th>\n",
       "      <td>Водитель-курьер с личным автомобилем</td>\n",
       "      <td>Обязанности:  сбор и доставка почтовых отправл...</td>\n",
       "    </tr>\n",
       "    <tr>\n",
       "      <th>11706</th>\n",
       "      <td>Водитель Яндекс такси на зарплату</td>\n",
       "      <td>В штат на зарплату. Водитель Такси, НОВЫЕ АВТО...</td>\n",
       "    </tr>\n",
       "  </tbody>\n",
       "</table>\n",
       "</div>"
      ],
      "text/plain": [
       "                                      title  \\\n",
       "6329        Водитель категории Д на автобус   \n",
       "6192                  Водитель-дальнобойщик   \n",
       "16020             Водитель такси Ford Focus   \n",
       "11685  Водитель-курьер с личным автомобилем   \n",
       "11706     Водитель Яндекс такси на зарплату   \n",
       "\n",
       "                                             description  \n",
       "6329   В транспортную компанию на постоянную работу т...  \n",
       "6192   На постоянную работу требуется водитель-дально...  \n",
       "16020    Крупной транспортной компании требуются води...  \n",
       "11685  Обязанности:  сбор и доставка почтовых отправл...  \n",
       "11706  В штат на зарплату. Водитель Такси, НОВЫЕ АВТО...  "
      ]
     },
     "execution_count": 4,
     "metadata": {},
     "output_type": "execute_result"
    }
   ],
   "source": [
    "text=\"водитель автобуса\"\n",
    "ids=model.knn_hh(text, 5)\n",
    "data_hh.iloc[ids][['title','description']]"
   ]
  },
  {
   "cell_type": "markdown",
   "metadata": {},
   "source": [
    "## Определение типа хотелки\n",
    "KNeighborsClassifier обучен на случайной 10 тыс. выборке с юлы и hh. Если максимальное значение не превышает критического, возвращается dummy-тип. Для ясности, печатаются вероятности принадлежности к hh и юле."
   ]
  },
  {
   "cell_type": "code",
   "execution_count": 29,
   "metadata": {},
   "outputs": [
    {
     "name": "stdout",
     "output_type": "stream",
     "text": [
      "[0. 1.]\n",
      "youla\n"
     ]
    }
   ],
   "source": [
    "text=\"безумно дорогая и ненужная вещь\"\n",
    "print(model.wish_detector(text))"
   ]
  },
  {
   "cell_type": "code",
   "execution_count": 30,
   "metadata": {},
   "outputs": [
    {
     "name": "stdout",
     "output_type": "stream",
     "text": [
      "[1. 0.]\n",
      "hh\n"
     ]
    }
   ],
   "source": [
    "text=\"Фронтенд программист без опыта\"\n",
    "print(model.wish_detector(text))"
   ]
  },
  {
   "cell_type": "code",
   "execution_count": 32,
   "metadata": {},
   "outputs": [
    {
     "name": "stdout",
     "output_type": "stream",
     "text": [
      "[0.4 0.6]\n",
      "dummy\n"
     ]
    }
   ],
   "source": [
    "text=\"фигня которую не определить\"\n",
    "print(model.wish_detector(text))"
   ]
  },
  {
   "cell_type": "markdown",
   "metadata": {},
   "source": [
    "**ЗЫ** однако фигни на юле больше чем на hh"
   ]
  },
  {
   "cell_type": "markdown",
   "metadata": {},
   "source": [
    "## Классификация вакансий\n",
    "Снова бэггинг решающих деревьев, снова на рандомной 10тыс. выборке"
   ]
  },
  {
   "cell_type": "code",
   "execution_count": 7,
   "metadata": {},
   "outputs": [
    {
     "name": "stdout",
     "output_type": "stream",
     "text": [
      "(17, 'Продажи')\n"
     ]
    }
   ],
   "source": [
    "text=\"Менеджер по продажам юридических услуг\"\n",
    "print(model.predict_text(text))"
   ]
  },
  {
   "cell_type": "code",
   "execution_count": 10,
   "metadata": {},
   "outputs": [
    {
     "data": {
      "text/plain": [
       "title            Менеджер по продажам юридических услуг\n",
       "category_id                                           5\n",
       "category_name                 Банки, инвестиции, лизинг\n",
       "Name: 2656, dtype: object"
      ]
     },
     "execution_count": 10,
     "metadata": {},
     "output_type": "execute_result"
    }
   ],
   "source": [
    "data_hh.iloc[2656][['title','category_id','category_name']]"
   ]
  },
  {
   "cell_type": "markdown",
   "metadata": {},
   "source": [
    "по-моему, логичное предсказание"
   ]
  },
  {
   "cell_type": "markdown",
   "metadata": {},
   "source": [
    "## Дамп данных\n",
    "а именно:\n",
    "* датасет юлы → анной + модель хотелки\n",
    "* датасет hh → анной + модель хотелки\n",
    "* категории hh → словарь + модель категории"
   ]
  },
  {
   "cell_type": "code",
   "execution_count": 6,
   "metadata": {},
   "outputs": [
    {
     "name": "stdout",
     "output_type": "stream",
     "text": [
      "Wall time: 3min 46s\n"
     ]
    }
   ],
   "source": [
    "%%time\n",
    "ml.dump_all()"
   ]
  },
  {
   "cell_type": "markdown",
   "metadata": {},
   "source": [
    "## Всё!\n",
    "Оценки моделей лежат в [/model/ml2.ipynb](./ml2.ipynb)"
   ]
  }
 ],
 "metadata": {
  "kernelspec": {
   "display_name": "Python 3",
   "language": "python",
   "name": "python3"
  },
  "language_info": {
   "codemirror_mode": {
    "name": "ipython",
    "version": 3
   },
   "file_extension": ".py",
   "mimetype": "text/x-python",
   "name": "python",
   "nbconvert_exporter": "python",
   "pygments_lexer": "ipython3",
   "version": "3.7.1"
  }
 },
 "nbformat": 4,
 "nbformat_minor": 2
}
